{
 "cells": [
  {
   "cell_type": "markdown",
   "metadata": {},
   "source": [
    "# Bienvenidos a la Clase 8 de ICDP\n",
    "\n",
    "En esta quinta parte continuamos con el uso de la librería pandas para creación y manejo de datasets, además de trabajar con las diferentes estructuras de datos, manejar y conocer las diferentes opciones en cada tipo de estructura, sus coincidencias y diferencias."
   ]
  },
  {
   "cell_type": "code",
   "execution_count": null,
   "metadata": {},
   "outputs": [],
   "source": [
    "import pandas as pd"
   ]
  },
  {
   "cell_type": "markdown",
   "metadata": {},
   "source": [
    "En esta clase usaremos el conjunto de datos titanic almacenado como CSV. Los datos constan de las siguientes columnas de datos:\n",
    "\n",
    "* PassengerId: Id de cada pasajero.\n",
    "* Survived: esta característica tiene valor 0 y 1. 0 para no sobrevivido y 1 para sobrevivido.\n",
    "* Pclass: Hay 3 clases: Clase 1, Clase 2 y Clase 3.\n",
    "* Name: Nombre del pasajero.\n",
    "* Name: Género del pasajero.\n",
    "* Age: Edad del pasajero.\n",
    "* SibSp: Indicación de que el pasajero tiene hermanos y cónyuge.\n",
    "* Parch: si un pasajero está solo o tiene familia.\n",
    "* Ticket: número de ticket del pasajero.\n",
    "* Fare: Indicando la tarifa.\n",
    "* Cabin: La cabina del pasajero.\n",
    "* Embarked: La categoría embarcado."
   ]
  },
  {
   "cell_type": "code",
   "execution_count": null,
   "metadata": {
    "scrolled": true
   },
   "outputs": [],
   "source": [
    "titanic = pd.read_csv(\"titanic.csv\")"
   ]
  },
  {
   "cell_type": "markdown",
   "metadata": {},
   "source": [
    "Además de `titanic.csv` usaremos datos de calidad del aire sobre NO2 y partículas de menos de 2,5 micrómetros, disponibles por https://openaq.org/ y utilizando el siguiente paquete http://dhhagan.github.io/py-openaq/index.html. El conjunto de datos es `air_quality_long.csv` proporciona valores de NO2 y PM25 para las estaciones de medición FR04014, BETR801 y London Westminster en París, Amberes y Londres, respectivamente.\n",
    "\n",
    "El conjunto de datos de calidad del aire tiene las siguientes columnas:\n",
    "\n",
    "* city: ciudad donde se utiliza el sensor, ya sea París, Amberes o Londres\n",
    "* country: país donde se utiliza el sensor, ya sea FR, BE o GB\n",
    "* location: la identificación del sensor, ya sea FR04014, BETR801 o London Westminster\n",
    "* parameter: el parámetro medido por el sensor, ya sea NO2 o material particulado\n",
    "* value: el valor medido\n",
    "* unit: la unidad del parámetro medido, en este caso \"µg/m³\"\n",
    "\n",
    "y el índice del `DataFrame` es `datetime`, la fecha y hora de la medición."
   ]
  },
  {
   "cell_type": "code",
   "execution_count": null,
   "metadata": {},
   "outputs": [],
   "source": [
    "air_quality_no2 = pd.read_csv(\"air_quality_no2_long.csv\", parse_dates=True)\n",
    "air_quality_no2 = air_quality_no2[[\"date.utc\", \"location\", \"parameter\", \"value\"]]\n",
    "\n",
    "air_quality_pm25 = pd.read_csv(\"air_quality_pm25_long.csv\", parse_dates=True)\n",
    "air_quality_pm25 = air_quality_pm25[[\"date.utc\", \"location\",\"parameter\", \"value\"]]"
   ]
  },
  {
   "cell_type": "markdown",
   "metadata": {},
   "source": [
    "### Cómo combinar datos de varias tablas?\n",
    "#### Concatenando objetos\n",
    "<img src=\"https://pandas.pydata.org/pandas-docs/version/1.0.3/_images/08_concat_row1.svg\" width=\"70%\" height=\"70%\">\n",
    "\n",
    "Quiero combinar las medidas de NO2 y PM25, dos tablas con una estructura similar, en una sola tabla:"
   ]
  },
  {
   "cell_type": "code",
   "execution_count": null,
   "metadata": {},
   "outputs": [],
   "source": [
    "air_quality_pm25.head()"
   ]
  },
  {
   "cell_type": "code",
   "execution_count": null,
   "metadata": {},
   "outputs": [],
   "source": [
    "air_quality_no2.head()"
   ]
  },
  {
   "cell_type": "code",
   "execution_count": null,
   "metadata": {},
   "outputs": [],
   "source": [
    "air_quality = pd.concat([air_quality_pm25, air_quality_no2])\n",
    "air_quality.head()"
   ]
  },
  {
   "cell_type": "code",
   "execution_count": null,
   "metadata": {},
   "outputs": [],
   "source": [
    "air_quality.shape"
   ]
  },
  {
   "cell_type": "markdown",
   "metadata": {},
   "source": [
    "La función `concat()` realiza operaciones de concatenación de varias tablas a lo largo de uno de los ejes (por filas o por columnas).\n",
    "\n",
    "Por defecto, la concatenación está a lo largo del eje 0, por lo que la tabla resultante combina las filas de las tablas de entrada. Revisemos la forma del original y las tablas concatenadas para verificar la operación:"
   ]
  },
  {
   "cell_type": "code",
   "execution_count": null,
   "metadata": {},
   "outputs": [],
   "source": [
    "print('Forma de la tabla `air_quality_pm25`: ', air_quality_pm25.shape)\n",
    "\n",
    "print('Forma de la tabla `air_quality_no2`: ', air_quality_no2.shape)\n",
    "\n",
    "print('Forma de la tabla resultado `air_quality`: ', air_quality.shape)"
   ]
  },
  {
   "cell_type": "markdown",
   "metadata": {},
   "source": [
    "Por tanto, la tabla resultante tiene 3178 = 1110 + 2068 filas.\n",
    "\n",
    "<div class=\"alert alert-block alert-info\">\n",
    "<b>Nota:</b> El argumento del eje regresará en varios métodos pandas que se pueden aplicar a lo largo de un eje. Un DataFrame tiene dos ejes correspondientes: el primero se ejecuta verticalmente hacia abajo en las filas (axis=0) y el segundo se ejecuta horizontalmente en las columnas (axis=1). La mayoría de las operaciones, como la concatenación o las estadísticas de resumen, se realizan de forma predeterminada en las filas (axis=0), pero también se pueden aplicar en las columnas.\n",
    "</div>\n",
    "\n",
    "Ordenar la tabla según la información de fecha y hora también ilustra la combinación de ambas tablas, con la columna de `parameter` que define el origen de la tabla (ya sea `no2` de la tabla `air_quality_no2` o `pm25` de la tabla `air_quality_pm25`):"
   ]
  },
  {
   "cell_type": "code",
   "execution_count": null,
   "metadata": {},
   "outputs": [],
   "source": [
    "air_quality = air_quality.sort_values(\"date.utc\")\n",
    "air_quality.head()"
   ]
  },
  {
   "cell_type": "code",
   "execution_count": null,
   "metadata": {},
   "outputs": [],
   "source": [
    "import numpy as np"
   ]
  },
  {
   "cell_type": "code",
   "execution_count": null,
   "metadata": {},
   "outputs": [],
   "source": [
    "np.size(air_quality[\"date.utc\"].unique())"
   ]
  },
  {
   "cell_type": "markdown",
   "metadata": {},
   "source": [
    "En este ejemplo específico, la columna de parámetros proporcionada por los datos asegura que se pueda identificar cada una de las tablas originales. Este no es siempre el caso. la función concat proporciona una solución conveniente con el argumento de claves, agregando un índice de fila adicional (jerárquico). Por ejemplo:"
   ]
  },
  {
   "cell_type": "code",
   "execution_count": null,
   "metadata": {},
   "outputs": [],
   "source": [
    "air_quality_pm25.head()"
   ]
  },
  {
   "cell_type": "code",
   "execution_count": null,
   "metadata": {},
   "outputs": [],
   "source": [
    "air_quality_no2.head()"
   ]
  },
  {
   "cell_type": "code",
   "execution_count": null,
   "metadata": {},
   "outputs": [],
   "source": [
    "air_quality_ = pd.concat([air_quality_pm25, air_quality_no2],keys=[\"PM25\", \"NO2\"])\n",
    "air_quality_.head()"
   ]
  },
  {
   "cell_type": "markdown",
   "metadata": {},
   "source": [
    "<div class=\"alert alert-block alert-info\">\n",
    "<b>Nota:</b> La existencia de múltiples índices de fila/columna al mismo tiempo no se ha mencionado en este curso. La indexación jerárquica o MultiIndex es una función de pandas avanzada y poderosa para analizar datos de mayor dimensión.\n",
    "La indexación múltiple está fuera del alcance de esta introducción a pandas. Por el momento, recuerde que la función reset_index se puede utilizar para convertir cualquier nivel de un índice en una columna, p. Ej. air_quality.reset_index(level=0)\n",
    "</div>\n",
    "\n",
    "Sentite libre de sumergirte en el mundo de la indexación múltiple en la sección de la guía del usuario sobre indexación avanzada: https://pandas.pydata.org/docs/user_guide/advanced.html#advanced\n",
    "\n",
    "En la sección sobre concatenación de objetos se proporcionan más opciones sobre la concatenación de tablas (filas y columnas) y cómo se puede usar concat para definir la lógica (unión o intersección) de los índices en los otros ejes: https://pandas.pydata.org/docs/user_guide/merging.html#merging-concat\n",
    "\n",
    "### Unir tablas usando un identificador común\n",
    "<img src=\"https://pandas.pydata.org/docs/_images/08_merge_left.svg\" width=\"70%\" height=\"70%\">\n",
    "\n",
    "Agregue las coordenadas de la estación, proporcionadas por la tabla de metadatos de las estaciones, a las filas correspondientes en la tabla de medidas"
   ]
  },
  {
   "cell_type": "code",
   "execution_count": null,
   "metadata": {
    "scrolled": true
   },
   "outputs": [],
   "source": [
    "stations_coord = pd.read_csv(\"air_quality_stations.csv\")\n",
    "stations_coord.head()"
   ]
  },
  {
   "cell_type": "code",
   "execution_count": null,
   "metadata": {},
   "outputs": [],
   "source": [
    "stations_coord.shape"
   ]
  },
  {
   "cell_type": "code",
   "execution_count": null,
   "metadata": {},
   "outputs": [],
   "source": [
    "air_quality.head()"
   ]
  },
  {
   "cell_type": "code",
   "execution_count": null,
   "metadata": {},
   "outputs": [],
   "source": [
    "air_quality.shape"
   ]
  },
  {
   "cell_type": "code",
   "execution_count": null,
   "metadata": {
    "scrolled": false
   },
   "outputs": [],
   "source": [
    "air_quality_f = pd.merge(air_quality, stations_coord, how='left', on='location')\n",
    "air_quality_f.head()"
   ]
  },
  {
   "cell_type": "markdown",
   "metadata": {},
   "source": [
    "Usando la función `merge()`, para cada una de las filas en la tabla `air_quality`, se agregan las coordenadas correspondientes de la tabla `air_quality_stations_coord`. Ambas tablas tienen en común la columna `location` que se utiliza como clave para combinar la información. Al elegir la combinación de la izquierda, solo las ubicaciones disponibles en la tabla `air_quality`(izquierda), es decir, FR04014, BETR801 y London Westminster, terminan en la tabla resultante. La función `merge()` admite múltiples opciones de combinación similares a las operaciones de estilo de base de datos.\n",
    "\n",
    "Agregue la descripción completa y el nombre del parámetro, proporcionado por la tabla de metadatos de parámetros, a la tabla de medidas:"
   ]
  },
  {
   "cell_type": "code",
   "execution_count": null,
   "metadata": {},
   "outputs": [],
   "source": [
    "air_quality_parameters = pd.read_csv(\"air_quality_parameters.csv\")\n",
    "air_quality_parameters.head()"
   ]
  },
  {
   "cell_type": "code",
   "execution_count": null,
   "metadata": {},
   "outputs": [],
   "source": [
    "#Renombrar columnas\n",
    "# air_quality_parameters.rename(columns={\"id\":\"parameter\"}, inplace=True)"
   ]
  },
  {
   "cell_type": "code",
   "execution_count": null,
   "metadata": {},
   "outputs": [],
   "source": [
    "air_quality_parameters.head()"
   ]
  },
  {
   "cell_type": "code",
   "execution_count": null,
   "metadata": {},
   "outputs": [],
   "source": [
    "air_quality_parameters.shape"
   ]
  },
  {
   "cell_type": "code",
   "execution_count": null,
   "metadata": {},
   "outputs": [],
   "source": [
    "air_quality = pd.merge(air_quality, air_quality_parameters,how='left', left_on='parameter', right_on='id')"
   ]
  },
  {
   "cell_type": "code",
   "execution_count": null,
   "metadata": {},
   "outputs": [],
   "source": [
    "air_quality.head()"
   ]
  },
  {
   "cell_type": "markdown",
   "metadata": {},
   "source": [
    "En comparación con el ejemplo anterior, no existe un nombre de columna común. Sin embargo, la columna `parameter` en la tabla `air_quality` y la columna `id` en `air_quality_parameters_name` proporcionan la variable medida en un formato común. Los argumentos `left_on` y `right_on` se utilizan aquí (en lugar de solo `on`) para establecer el vínculo entre las dos tablas.\n",
    "\n",
    "__pandas__ también admite uniones internas, externas y derechas. Se proporciona más información sobre la unión/merge de tablas en la sección de la guía del usuario sobre el merge de tablas de estilo de base de datos aquí: https://pandas.pydata.org/docs/user_guide/merging.html#merging-join\n",
    "O la página de comparación con SQL aquí: https://pandas.pydata.org/docs/getting_started/comparison/comparison_with_sql.html#compare-with-sql-join\n",
    "\n",
    "<div class=\"alert alert-block alert-info\">\n",
    "<b>Recuerda:</b>\n",
    "    <ul>\n",
    "        <li>Se pueden concatenar varias tablas tanto en columnas como en filas utilizando la función concat.</li>\n",
    "        <li>Para hacer merge o unir tablas como una base de datos, utilice la función merge.</li>\n",
    "    </ul>\n",
    "</div>\n",
    "\n",
    "Consulte la guía del usuario para obtener una descripción completa de las diversas funciones para combinar tablas de datos: https://pandas.pydata.org/docs/user_guide/merging.html#merging"
   ]
  },
  {
   "cell_type": "code",
   "execution_count": null,
   "metadata": {},
   "outputs": [],
   "source": [
    "import matplotlib.pyplot as plt\n",
    "\n",
    "air_quality = pd.read_csv(\"air_quality_no2_long.csv\")\n",
    "\n",
    "air_quality = air_quality.rename(columns={\"date.utc\": \"datetime\"})\n"
   ]
  },
  {
   "cell_type": "code",
   "execution_count": null,
   "metadata": {},
   "outputs": [],
   "source": [
    "air_quality.columns = ['ciudad', 'pais', 'datetime', 'location', 'parameter', 'value',\n",
    "       'unit']"
   ]
  },
  {
   "cell_type": "code",
   "execution_count": null,
   "metadata": {},
   "outputs": [],
   "source": [
    "air_quality.columns"
   ]
  },
  {
   "cell_type": "code",
   "execution_count": null,
   "metadata": {
    "scrolled": false
   },
   "outputs": [],
   "source": [
    "air_quality.city.unique()"
   ]
  },
  {
   "cell_type": "markdown",
   "metadata": {},
   "source": [
    "### Cómo manejar datos de series temporales con facilidad?\n",
    "#### Usando las propiedades de fecha y hora de pandas\n",
    "\n",
    "Quiero trabajar con las fechas en la columna `datetime` como objetos de fecha y hora en lugar de texto sin formato"
   ]
  },
  {
   "cell_type": "code",
   "execution_count": null,
   "metadata": {},
   "outputs": [],
   "source": [
    "air_quality[\"datetime\"] = pd.to_datetime(air_quality[\"datetime\"])\n",
    "air_quality[\"datetime\"].head()"
   ]
  },
  {
   "cell_type": "markdown",
   "metadata": {},
   "source": [
    "Inicialmente, los valores de `datetime` son cadenas de caracteres y no proporcionan ninguna operación de fecha y hora (por ejemplo, extraer el año, el día de la semana,…). Al aplicar la función `to_datetime`, pandas interpretan las cadenas y las convierten en objetos de fecha y hora (es decir, `datetime64[ns, UTC]`). En pandas llamamos a estos objetos de fecha y hora similares a `datetime.datetime` de la biblioteca estándar como `pandas.Timestamp`.\n",
    "\n",
    "<div class=\"alert alert-block alert-info\">\n",
    "<b>Nota:</b> Como muchos conjuntos de datos contienen información de fecha y hora en una de las columnas, la función de entrada de pandas como <b>pandas.read_csv()</b> y <b>pandas.read_json()</b> pueden hacer la transformación a fechas al leer los datos usando el parámetro <i>parse_dates</i> con una lista de las columnas a leer como Timestamp:\n",
    "</div>"
   ]
  },
  {
   "cell_type": "code",
   "execution_count": null,
   "metadata": {},
   "outputs": [],
   "source": [
    "air_quality_no2_long = pd.read_csv(\"air_quality_no2_long.csv\", parse_dates=[\"date.utc\"])\n",
    "air_quality_no2_long[\"date.utc\"].head()"
   ]
  },
  {
   "cell_type": "markdown",
   "metadata": {},
   "source": [
    "Por qué son útiles estos objetos `pandas.Timestamp`? Ilustremos el valor agregado con algunos casos de ejemplo.\n",
    "\n",
    "Cuál es la fecha de inicio y finalización del conjunto de datos de series de tiempo con el que estamos trabajando?"
   ]
  },
  {
   "cell_type": "code",
   "execution_count": null,
   "metadata": {},
   "outputs": [],
   "source": [
    "air_quality[\"datetime\"].min(), air_quality[\"datetime\"].max()"
   ]
  },
  {
   "cell_type": "markdown",
   "metadata": {},
   "source": [
    "El uso de `pandas.Timestamp` para fechas y horas nos permite calcular con información de fechas y hacerlas comparables. Por lo tanto, podemos usar esto para obtener la longitud de nuestra serie de tiempo:"
   ]
  },
  {
   "cell_type": "code",
   "execution_count": null,
   "metadata": {},
   "outputs": [],
   "source": [
    "air_quality[\"datetime\"].max() - air_quality[\"datetime\"].min()"
   ]
  },
  {
   "cell_type": "markdown",
   "metadata": {},
   "source": [
    "El resultado es un objeto `pandas.Timedelta`, similar a `datetime.timedelta` de la biblioteca estándar de Python y que define una duración de tiempo.\n",
    "\n",
    "Los diversos conceptos de tiempo admitidos por pandas se explican en la sección de la guía del usuario sobre conceptos relacionados con el tiempo: https://pandas.pydata.org/docs/user_guide/timeseries.html#timeseries-overview\n",
    "\n",
    "Quiero agregar una nueva columna al DataFrame que contiene solo el mes de la medición:"
   ]
  },
  {
   "cell_type": "code",
   "execution_count": null,
   "metadata": {},
   "outputs": [],
   "source": [
    "air_quality[\"month\"] = air_quality[\"datetime\"].dt.month\n",
    "\n",
    "air_quality.head()"
   ]
  },
  {
   "cell_type": "code",
   "execution_count": null,
   "metadata": {},
   "outputs": [],
   "source": [
    "air_quality.month.unique()"
   ]
  },
  {
   "cell_type": "code",
   "execution_count": null,
   "metadata": {},
   "outputs": [],
   "source": [
    "air_quality[\"month\"].unique()"
   ]
  },
  {
   "cell_type": "markdown",
   "metadata": {},
   "source": [
    "Al utilizar objetos de marca de tiempo para las fechas, pandas proporciona muchas propiedades relacionadas con el tiempo. Por ejemplo, el mes, pero también el año, la semana del año, el trimestre, etc. Todas estas propiedades son accesibles por el accesor dt.\n",
    "\n",
    "En la tabla de resumen de componentes de fecha y hora se ofrece una descripción general de las propiedades de fecha existentes: https://pandas.pydata.org/docs/user_guide/timeseries.html#timeseries-components.\n",
    "Más detalles sobre el descriptor de acceso dt para devolver propiedades similares a la fecha y hora se explican en una sección dedicada al descriptor de acceso dt: https://pandas.pydata.org/docs/user_guide/basics.html#basics-dt-accessors\n",
    "\n",
    "Cuál es la concentración promedio de NO2 para cada día de la semana para cada uno de los lugares de medición?"
   ]
  },
  {
   "cell_type": "code",
   "execution_count": null,
   "metadata": {},
   "outputs": [],
   "source": [
    "air_quality.groupby([air_quality[\"datetime\"].dt.weekday, \"location\"])[[\"value\"]].mean()"
   ]
  },
  {
   "cell_type": "markdown",
   "metadata": {},
   "source": [
    "¿Recuerdas el patrón dividir-aplicar-combinar proporcionado por groupby sobre cálculo de estadísticas de la clase anterior? Aquí, queremos calcular una estadística determinada (por ejemplo, NO2 medio) __para cada día de la semana y para cada ubicación de medición__. Para agrupar en días de semana, usamos la propiedad datetime _weekday_ (con Monday=0 y Sunday=6) de pandas `Timestamp`, a la que también puede acceder el descriptor de acceso `dt`. La agrupación en ubicaciones y días de semana se puede realizar para dividir el cálculo de la media en cada una de estas combinaciones.\n",
    "\n",
    "<div class=\"alert alert-block alert-danger\">\n",
    "<b>Cuidado:</b> Como estamos trabajando con una serie de tiempo muy corta en estos ejemplos, el análisis no proporciona un resultado representativo a largo plazo.\n",
    "</div>\n",
    "\n",
    "Trace el patrón típico de NO2 durante el día de nuestra serie de tiempo de todas las estaciones juntas. En otras palabras, ¿cuál es el valor medio de cada hora del día?"
   ]
  },
  {
   "cell_type": "code",
   "execution_count": null,
   "metadata": {},
   "outputs": [],
   "source": [
    "fig, axs = plt.subplots(figsize=(20, 4))\n",
    "\n",
    "air_quality.groupby(air_quality[\"datetime\"].dt.hour)[\"value\"].mean().plot(kind='bar',rot=90,ax=axs)\n",
    "\n",
    "plt.xlabel(\"Hora del día\");  # Personalizando la etiqueta del eje x\n",
    "plt.ylabel(\"$NO_2 (µg/m^3)$\");"
   ]
  },
  {
   "cell_type": "markdown",
   "metadata": {},
   "source": [
    "Al igual que en el caso anterior, queremos calcular una estadística dada (por ejemplo, NO2 medio) __para cada hora del día__ y podemos usar el enfoque dividir-aplicar-combinar nuevamente. Para este caso, usamos la propiedad datetime `hour` de pandas `Timestamp`, a la que también puede acceder el descriptor de acceso `dt`."
   ]
  },
  {
   "cell_type": "markdown",
   "metadata": {},
   "source": [
    "### Datetime como índice\n",
    "\n",
    "En la clase sobre reshape, se introdujo `pivot()` para remodelar la tabla de datos con cada una de las ubicaciones de las mediciones como una columna separada:"
   ]
  },
  {
   "cell_type": "code",
   "execution_count": null,
   "metadata": {},
   "outputs": [],
   "source": [
    "no_2 = air_quality.pivot(index=\"datetime\", columns=\"location\", values=\"value\")\n",
    "no_2.head()"
   ]
  },
  {
   "cell_type": "markdown",
   "metadata": {},
   "source": [
    "<div class=\"alert alert-block alert-info\">\n",
    "<b>Nota:</b> Al girar los datos, la información de fecha y hora se convirtió en el índice de la tabla. En general, la función <i>set_index</i> puede lograr establecer una columna como índice.\n",
    "</div>\n",
    "\n",
    "Trabajar con un índice de fecha y hora (es decir, DatetimeIndex) proporciona potentes funcionalidades. Por ejemplo, no necesitamos el descriptor de acceso `dt` para obtener las propiedades de la serie temporal, pero tenemos estas propiedades disponibles en el índice directamente:"
   ]
  },
  {
   "cell_type": "code",
   "execution_count": null,
   "metadata": {},
   "outputs": [],
   "source": [
    "no_2.shape"
   ]
  },
  {
   "cell_type": "code",
   "execution_count": null,
   "metadata": {},
   "outputs": [],
   "source": [
    "no_2.index.year.unique(), no_2.index.weekday.unique()"
   ]
  },
  {
   "cell_type": "markdown",
   "metadata": {},
   "source": [
    "Algunas otras ventajas son el subconjunto conveniente del período de tiempo o la escala de tiempo adaptada en los gráficos. Apliquemos esto a nuestros datos.\n",
    "\n",
    "Crea un gráfico de los valores de NO2 en las diferentes estaciones desde el 20 de mayo hasta finales del 21 de mayo"
   ]
  },
  {
   "cell_type": "code",
   "execution_count": null,
   "metadata": {},
   "outputs": [],
   "source": [
    "no_2.tz_localize(None)[\"2019-05-20\":\"2019-05-21\"].plot(figsize=(20, 8));"
   ]
  },
  {
   "cell_type": "markdown",
   "metadata": {},
   "source": [
    "Al proporcionar una cadena que analiza una fecha y hora, se puede seleccionar un subconjunto específico de los datos en un DatetimeIndex.\n",
    "\n",
    "Se proporciona más información sobre DatetimeIndex y la división mediante cadenas en la sección sobre indexación de series de tiempo: https://pandas.pydata.org/docs/user_guide/timeseries.html#timeseries-datetimeindex"
   ]
  },
  {
   "cell_type": "markdown",
   "metadata": {},
   "source": [
    "### Remuestrear una serie de tiempo a otra frecuencia\n",
    "Agregue los valores actuales de las series de tiempo por hora al valor máximo mensual en cada una de las estaciones."
   ]
  },
  {
   "cell_type": "code",
   "execution_count": null,
   "metadata": {},
   "outputs": [],
   "source": [
    "monthly_max = no_2.resample(\"M\").max()\n",
    "monthly_max"
   ]
  },
  {
   "cell_type": "code",
   "execution_count": null,
   "metadata": {},
   "outputs": [],
   "source": [
    "quincenal_max = no_2.resample(\"SM\").max()\n",
    "quincenal_max"
   ]
  },
  {
   "cell_type": "code",
   "execution_count": null,
   "metadata": {},
   "outputs": [],
   "source": [
    "week_min = no_2.resample(\"W\").min()\n",
    "week_min"
   ]
  },
  {
   "cell_type": "code",
   "execution_count": null,
   "metadata": {},
   "outputs": [],
   "source": [
    "monthly_max = no_2.resample(\"W\").mean()\n",
    "monthly_max"
   ]
  },
  {
   "cell_type": "markdown",
   "metadata": {},
   "source": [
    "Un método muy poderoso sobre datos de series de tiempo con un índice de fecha y hora es la capacidad de volver a muestrear `resample()` series de tiempo a otra frecuencia (por ejemplo, convertir datos en segundo lugar en datos de 5 minutos).\n",
    "\n",
    "El método resample () es similar a una operación groupby:\n",
    "\n",
    "* Proporciona una agrupación basada en el tiempo, mediante el uso de una cadena (por ejemplo, M, 5H, ...) que define la frecuencia objetivo.\n",
    "* Requiere una función de agregación como mean, max, etc.\n",
    "\n",
    "En la tabla de descripción general de alias de desplazamiento se ofrece una descripción general de los alias utilizados para definir las frecuencias de series de tiempo: https://pandas.pydata.org/docs/user_guide/timeseries.html#timeseries-offset-aliases.\n"
   ]
  },
  {
   "cell_type": "markdown",
   "metadata": {},
   "source": [
    "* W: frecuencia semanal\n",
    "* M: frecuencia de fin de mes\n",
    "* SM: frecuencia de fin de mes y medio(15 y fin de mes)\n",
    "* Q: frecuencia de fin de trimestre"
   ]
  },
  {
   "cell_type": "markdown",
   "metadata": {},
   "source": [
    "\n",
    "Cuando se define, la frecuencia de la serie temporal la proporciona el atributo `freq`:"
   ]
  },
  {
   "cell_type": "code",
   "execution_count": null,
   "metadata": {},
   "outputs": [],
   "source": [
    "week_min.index.freq"
   ]
  },
  {
   "cell_type": "markdown",
   "metadata": {},
   "source": [
    "Haga una gráfica del valor medio diario de NO2 en cada una de las estaciones."
   ]
  },
  {
   "cell_type": "code",
   "execution_count": null,
   "metadata": {},
   "outputs": [],
   "source": [
    "no_2.tz_localize(None).resample(\"D\").mean().plot(style=\"-o\", figsize=(20, 10));"
   ]
  },
  {
   "cell_type": "markdown",
   "metadata": {},
   "source": [
    "Se proporcionan más detalles sobre el poder del remuestreo de series de tiempo en la sección de la guía del usuario sobre remuestreo: https://pandas.pydata.org/docs/user_guide/timeseries.html#timeseries-resampling\n",
    "\n",
    "<div class=\"alert alert-block alert-info\">\n",
    "<b>Recuerda:</b>\n",
    "    <ul>\n",
    "        <li>Las cadenas de fechas válidas se pueden convertir en objetos de fecha y hora utilizando la función <b>to_datetime</b> o como parte de las funciones de lectura.</li>\n",
    "        <li>Los objetos de fecha y hora en pandas admiten cálculos, operaciones lógicas y propiedades convenientes relacionadas con la fecha utilizando el descriptor de acceso <b>dt</b>.</li>\n",
    "        <li>Un <b>DatetimeIndex</b> contiene estas propiedades relacionadas con la fecha y admite una división conveniente.</li>\n",
    "        <li><b>Remuestrear</b> es un método poderoso para cambiar la frecuencia de una serie de tiempo.</li>\n",
    "    </ul>\n",
    "</div>\n",
    "\n",
    "En las páginas sobre series temporales y funcionalidad de fecha se ofrece una descripción completa de las series temporales: https://pandas.pydata.org/docs/user_guide/timeseries.html#timeseries."
   ]
  },
  {
   "cell_type": "markdown",
   "metadata": {},
   "source": [
    "### Cómo manipular datos textuales?\n",
    "\n",
    "Ponga todos los caracteres del nombre en minúsculas"
   ]
  },
  {
   "cell_type": "code",
   "execution_count": null,
   "metadata": {},
   "outputs": [],
   "source": [
    "titanic[\"Name\"].head()"
   ]
  },
  {
   "cell_type": "code",
   "execution_count": null,
   "metadata": {},
   "outputs": [],
   "source": [
    "titanic[\"Name\"].str.lower().head()"
   ]
  },
  {
   "cell_type": "markdown",
   "metadata": {},
   "source": [
    "Para que cada una de las cadenas de la columna `Name` esté en minúsculas, seleccione la columna `Name`, agregue el descriptor de acceso `str` y aplique el método `lower`. Como tal, cada una de las cadenas se convierte en elemento.\n",
    "\n",
    "Similar a los objetos de fecha y hora que tienen un descriptor de acceso `dt`, hay varios métodos de cadena especializados disponibles cuando se usa el descriptor de acceso `str`. Estos métodos tienen, en general, nombres coincidentes con los métodos de cadena incorporados equivalentes para elementos individuales, pero se aplican por elementos en cada uno de los valores de las columnas.\n",
    "\n",
    "Crea una nueva columna `Surname` que contenga el apellido de los Pasajeros extrayendo la parte antes de la coma."
   ]
  },
  {
   "cell_type": "code",
   "execution_count": null,
   "metadata": {},
   "outputs": [],
   "source": [
    "titanic[\"Name\"].str.split(\",\").head()"
   ]
  },
  {
   "cell_type": "markdown",
   "metadata": {},
   "source": [
    "Con el método `Series.str.split()`, cada uno de los valores se devuelve como una lista de 2 elementos. El primer elemento es la parte anterior a la coma y el segundo elemento es la parte posterior a la coma."
   ]
  },
  {
   "cell_type": "code",
   "execution_count": null,
   "metadata": {},
   "outputs": [],
   "source": [
    "titanic[\"Surname\"] = titanic[\"Name\"].str.split(\",\").str.get(0)\n",
    "titanic[\"Surname\"].head()"
   ]
  },
  {
   "cell_type": "markdown",
   "metadata": {},
   "source": [
    "Como solo nos interesa la primera parte que representa el apellido (elemento 0), podemos usar nuevamente el descriptor de acceso `str` y aplicar `Series.str.get()` para extraer la parte relevante. De hecho, estas funciones de cadena se pueden concatenar para combinar múltiples funciones a la vez.\n",
    "\n",
    "Hay más información disponible sobre la extracción de partes de cadenas en la sección de la guía del usuario sobre cómo dividir y reemplazar cadenas: https://pandas.pydata.org/docs/user_guide/text.html#text-split\n",
    "\n",
    "Extraiga los datos de los pasajeros sobre la condesa a bordo del Titanic."
   ]
  },
  {
   "cell_type": "code",
   "execution_count": null,
   "metadata": {},
   "outputs": [],
   "source": [
    "titanic[\"Name\"].str.contains(\"Countess\").head()"
   ]
  },
  {
   "cell_type": "code",
   "execution_count": null,
   "metadata": {},
   "outputs": [],
   "source": [
    "titanic[titanic[\"Name\"].str.contains(\"Countess\")]"
   ]
  },
  {
   "cell_type": "markdown",
   "metadata": {},
   "source": [
    "El método de cadena `Series.str.contains()` comprueba cada uno de los valores en la columna `Name` si la cadena contiene la palabra `Countess` y devuelve para cada uno de los valores Verdadero (`Countess` es parte del nombre) y Falso (`Countess` no es parte del nombre). Esta salida se puede utilizar para subseleccionar los datos usando la indexación condicional (booleana) dada en clases anteriores. Como solo había una condesa en el Titanic, obtenemos una fila como resultado.\n",
    "\n",
    "<div class=\"alert alert-block alert-info\">\n",
    "<b>Nota:</b> Se admiten extracciones más potentes en cadenas, ya que los métodos Series.str.contains() y Series.str.extract() aceptan expresiones regulares.\n",
    "</div>\n",
    "\n",
    "Hay más información disponible sobre la extracción de partes de cadenas en la sección de la guía del usuario sobre coincidencia y extracción de cadenas: https://pandas.pydata.org/docs/user_guide/text.html#text-extract\n",
    "\n",
    "Qué pasajero del Titanic tiene el nombre más largo?"
   ]
  },
  {
   "cell_type": "code",
   "execution_count": null,
   "metadata": {},
   "outputs": [],
   "source": [
    "titanic[\"Name\"].str.len().head()"
   ]
  },
  {
   "cell_type": "markdown",
   "metadata": {},
   "source": [
    "Para obtener el nombre más largo, primero tenemos que obtener la longitud de cada uno de los nombres en la columna `Name`. Al usar métodos de cadena de pandas, la función `Series.str.len()` se aplica a cada uno de los nombres individualmente (por elementos)."
   ]
  },
  {
   "cell_type": "code",
   "execution_count": null,
   "metadata": {},
   "outputs": [],
   "source": [
    "titanic[\"Name\"].str.len().idxmax()"
   ]
  },
  {
   "cell_type": "markdown",
   "metadata": {},
   "source": [
    "A continuación, necesitamos obtener la ubicación correspondiente, preferiblemente la etiqueta de índice, en la tabla para la que la longitud del nombre es mayor. El método `idxmax()` hace exactamente eso. No es un método de cadena y se aplica a números enteros, por lo que no se usa `str`."
   ]
  },
  {
   "cell_type": "code",
   "execution_count": null,
   "metadata": {},
   "outputs": [],
   "source": [
    "titanic.loc[titanic[\"Name\"].str.len().idxmax(), \"Name\"]"
   ]
  },
  {
   "cell_type": "markdown",
   "metadata": {},
   "source": [
    "Basándonos en el nombre del índice de la fila (307) y la columna (Name), podemos hacer una selección usando el operador loc, explicado en clases anteriores.\n",
    "\n",
    "En la columna \"Sex\", reemplace los valores de \"male\" por \"M\" y los valores de \"female\" por \"F\":"
   ]
  },
  {
   "cell_type": "code",
   "execution_count": null,
   "metadata": {},
   "outputs": [],
   "source": [
    "titanic[\"Sex_short\"] = titanic[\"Sex\"].replace({\"male\": \"M\",\"female\": \"F\"})\n",
    "titanic[\"Sex_short\"].head()"
   ]
  },
  {
   "cell_type": "markdown",
   "metadata": {},
   "source": [
    "Mientras que `replace()` no es un método de cadena, proporciona una forma conveniente de usar mapeos o vocabularios para traducir ciertos valores. Requiere un diccionario para definir el mapeo `{de: a}`.\n",
    "\n",
    "<div class=\"alert alert-block alert-warning\">\n",
    "<b>Alerta:</b> También hay un método replace() disponible para reemplazar un conjunto específico de caracteres. Sin embargo, al tener un mapeo de múltiples valores, esto se convertiría en:\n",
    "</div>"
   ]
  },
  {
   "cell_type": "code",
   "execution_count": null,
   "metadata": {},
   "outputs": [],
   "source": [
    "titanic[\"Sex_short\"] = titanic[\"Sex\"].str.replace(\"female\", \"F\")\n",
    "titanic[\"Sex_short\"] = titanic[\"Sex_short\"].str.replace(\"male\", \"M\")"
   ]
  },
  {
   "cell_type": "code",
   "execution_count": null,
   "metadata": {},
   "outputs": [],
   "source": [
    "titanic[\"Sex_short\"].head()"
   ]
  },
  {
   "cell_type": "markdown",
   "metadata": {},
   "source": [
    "Esto se volvería complicado y conduciría fácilmente a errores. Prueba lo que sucedería si esas dos declaraciones se aplican en el orden opuesto...\n",
    "\n",
    "<div class=\"alert alert-block alert-info\">\n",
    "<b>Recuerda:</b>\n",
    "    <ul>\n",
    "        <li>Los métodos de cadena están disponibles usando el descriptor de acceso str.</li>\n",
    "        <li>Los métodos de cadena funcionan según los elementos y se pueden utilizar para la indexación condicional.</li>\n",
    "        <li>El método replace() es un método conveniente para convertir valores de acuerdo con un diccionario dado.</li>\n",
    "    </ul>\n",
    "</div>\n",
    "\n",
    "Se proporciona una descripción completa en las páginas de la guía del usuario sobre cómo trabajar con datos de texto aquí: https://pandas.pydata.org/docs/user_guide/text.html#text"
   ]
  },
  {
   "cell_type": "markdown",
   "metadata": {},
   "source": [
    "### Ejercicios\n",
    "\n",
    "#### Tema 1: (10p)\n",
    "Usando el archivo titanic.csv, realizar lo siguiente:\n",
    "\n",
    "* Usa la variable Name para crear la columna titulo (ej: Mr, Mrs, Master, etc).\n",
    "* Imprime en un gráfico circular la distribución de títulos de todos los pasajeros del titanic. En este caso para la minoría crear un título \"Otros\""
   ]
  },
  {
   "cell_type": "code",
   "execution_count": null,
   "metadata": {},
   "outputs": [],
   "source": []
  }
 ],
 "metadata": {
  "kernelspec": {
   "display_name": "Python 3",
   "language": "python",
   "name": "python3"
  },
  "language_info": {
   "codemirror_mode": {
    "name": "ipython",
    "version": 3
   },
   "file_extension": ".py",
   "mimetype": "text/x-python",
   "name": "python",
   "nbconvert_exporter": "python",
   "pygments_lexer": "ipython3",
   "version": "3.8.8"
  }
 },
 "nbformat": 4,
 "nbformat_minor": 2
}
