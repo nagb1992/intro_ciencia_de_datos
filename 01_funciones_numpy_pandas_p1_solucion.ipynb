{
 "cells": [
  {
   "cell_type": "markdown",
   "metadata": {},
   "source": [
    "# Soluciones de la Clase 4 de ICDP\n",
    "\n",
    "En esta clase aprenderemos a utilizar las funciones built-in como por ejemplo map(), filter() y reduce().\n",
    "<br>\n",
    "Además vamos a utilizar la librería numpy para creación y manejo de arrays, además de trabajar con las diferentes estructuras de datos, manejar y conocer las diferentes opciones en cada tipo de estructura, sus coincidencias y diferencias."
   ]
  },
  {
   "cell_type": "markdown",
   "metadata": {},
   "source": [
    "### Ejercicios"
   ]
  },
  {
   "cell_type": "markdown",
   "metadata": {},
   "source": [
    "Usando List Comprehensions, crea una lista con el cuadrado de los 1000 primeros números enteros positivos."
   ]
  },
  {
   "cell_type": "code",
   "execution_count": null,
   "metadata": {},
   "outputs": [],
   "source": [
    "def cuadrado(x):\n",
    "    return x**2\n",
    "list_cuadrado = [cuadrado(number) for number in range(1001)]\n",
    "list_cuadrado"
   ]
  },
  {
   "cell_type": "markdown",
   "metadata": {},
   "source": [
    "Usando la función `map` crea una lista con el doble de cada valor de la lista creada en el ejercicio anterior"
   ]
  },
  {
   "cell_type": "code",
   "execution_count": null,
   "metadata": {},
   "outputs": [],
   "source": [
    "list_doble=map(lambda x: x*2,list_cuadrado)\n",
    "list(list_doble)"
   ]
  },
  {
   "cell_type": "markdown",
   "metadata": {},
   "source": [
    "En base a una cadena definida y usando la función map() retornar una lista con la longitud de cada palabra. El resultado debe ser una lista. Imprimir resultado"
   ]
  },
  {
   "cell_type": "code",
   "execution_count": null,
   "metadata": {},
   "outputs": [],
   "source": [
    "palabras = ['Hola', \"lista\", \"ABC\", \"ahora\"]\n",
    "print (palabras)\n",
    "longitud = map(lambda l: len(l), palabras)\n",
    "list(longitud)"
   ]
  },
  {
   "cell_type": "markdown",
   "metadata": {},
   "source": [
    "Crear una lista de palabras y usando la función `filter` retornar las palabras de la lista que comiencen con una letra A. El resultado debe ser una lista. Imprimir el resultado"
   ]
  },
  {
   "cell_type": "code",
   "execution_count": null,
   "metadata": {},
   "outputs": [],
   "source": [
    "palabras = ['Hola', \"lista\", \"ABC\", \"ahora\"]\n",
    "print (palabras)\n",
    "def funcion_filter(x):\n",
    "    return (x[0] == 'A') | (x[0] == 'a')\n",
    "\n",
    "resultado = filter(funcion_filter, palabras)\n",
    "list(resultado)"
   ]
  },
  {
   "cell_type": "markdown",
   "metadata": {},
   "source": [
    "Usando la función `reduce`, calcula el promedio de los elementos de la lista `list_cuadrado`:\n",
    "\n",
    "`list_cuadrado = [number for number in range(1001)]`"
   ]
  },
  {
   "cell_type": "code",
   "execution_count": null,
   "metadata": {},
   "outputs": [],
   "source": [
    "from functools import reduce\n",
    "list_cuadrado = [number for number in range(1001)]\n",
    "promedio = reduce(lambda a, b: a + b, list_cuadrado)/len(list_cuadrado)\n",
    "print(f'El promedio de la lista de cuadrados es: {promedio}')"
   ]
  },
  {
   "cell_type": "markdown",
   "metadata": {},
   "source": [
    "Usando la función `zip`, concatenar 2 listas e imprimir el elemento concatenado.\n",
    "* Ejemplo: Listas: ['Hola', 'que'] ['tal','todo']\n",
    "* Conector: '.'\n",
    "* Salida: ['Hola-tal'] ['que-todo']."
   ]
  },
  {
   "cell_type": "code",
   "execution_count": 7,
   "metadata": {},
   "outputs": [
    {
     "data": {
      "text/plain": [
       "['Hola-tal', 'que-todo']"
      ]
     },
     "execution_count": 7,
     "metadata": {},
     "output_type": "execute_result"
    }
   ],
   "source": [
    "lista1 = [\"Hola\", \"que\"]\n",
    "lista2 = [\"tal\", \"todo\"]\n",
    "\n",
    "lista_f=[]\n",
    "for ele1, ele2 in zip(lista1, lista2):\n",
    "    lista_f.append(ele1+\"-\"+ele2)\n",
    "                   \n",
    "lista_f"
   ]
  },
  {
   "cell_type": "markdown",
   "metadata": {},
   "source": [
    "<!-- Crear una lista de nombre \"clientes\" de 20 elementos numéricos (rango del 1 al 10), luego la lista se debe convertir en un array. Imprimir dicho array. -->\n",
    "\n",
    "En base al nuevo array de clientes, cada valor del array corresponde a una nota de encuesta de satisfacción hecha a cada cliente (1 al 10). Recorrer cada elemento del array e imprimir un mensaje basado en los resultados de dicha encuesta:\n",
    "* Valores del 1 al 6: \"Cliente disconforme\"\n",
    "* Valores del 7 al 8: \"Cliente Indeciso\"\n",
    "* Valores del 9 al 10: \"Cliente Conforme\""
   ]
  },
  {
   "cell_type": "code",
   "execution_count": null,
   "metadata": {},
   "outputs": [],
   "source": [
    "import numpy as np\n",
    "\n",
    "#Creamos un array de 2 dim con 300 elementos aleatorios c/u = (600)\n",
    "\n",
    "# array_numeros = np.random.randint(300, size=(300,2))\n",
    "array_numeros = np.random.randint(300, size=(2,300))\n",
    "# print(array_numeros)\n",
    "\n",
    "#dimension:\n",
    "print(f'Dimension: {array_numeros.ndim}')\n",
    "\n",
    "#cantidad de elementos\n",
    "print(f'Cantidad de elementos: {array_numeros.size}')\n",
    "print()\n",
    "#primeros 50 elementos:\n",
    "\n",
    "indices = range(0,50)\n",
    "nuevo_array = array_numeros.take(indices)\n",
    "print(f'Nuevo array de 50 elementos: {nuevo_array}')\n",
    "print()\n",
    "\n",
    "#Crear un nuevo array de 1D con la segunda columna\n",
    "\n",
    "i = 1 #columna que quiero obtener\n",
    "arr_1D = array_numeros[i,:]\n",
    "print(f'Array de 1D: {arr_1D}')\n",
    "\n",
    "print()\n",
    "#Imprimir el valor de la segunda columna solo de la línea 222\n",
    "indices_1D = 222\n",
    "a = arr_1D.take(indices_1D) #trabajamos sobre el arr_1D que ya contiene los valores de la segunda columna\n",
    "print(f'Elemento 222: {a}')"
   ]
  },
  {
   "cell_type": "markdown",
   "metadata": {},
   "source": [
    "Crear un array de 2 dimensiones de 600 elementos aleatorios (0.5p). Luego:\n",
    "* Imprimir los primeros 50 registros (0.5p)\n",
    "* Crear un nuevo array de 1D con la segunda columna. Imprimir el valor (0.5p)\n",
    "* Imprimir el valor de la segunda columna solo de la línea 222 (0.5p)"
   ]
  },
  {
   "cell_type": "code",
   "execution_count": null,
   "metadata": {},
   "outputs": [],
   "source": [
    "import numpy as np\n",
    "\n",
    "#Creamos un array de 2 dim con 300 elementos aleatorios c/u = (600)\n",
    "\n",
    "# array_numeros = np.random.randint(300, size=(300,2))\n",
    "array_numeros = np.random.randint(300, size=(2,300))\n",
    "# print(array_numeros)\n",
    "\n",
    "#dimension:\n",
    "print(f'Dimension: {array_numeros.ndim}')\n",
    "\n",
    "#cantidad de elementos\n",
    "print(f'Cantidad de elementos: {array_numeros.size}')\n",
    "print()\n",
    "#primeros 50 elementos:\n",
    "\n",
    "indices = range(0,50)\n",
    "nuevo_array = array_numeros.take(indices)\n",
    "print(f'Nuevo array de 50 elementos: {nuevo_array}')\n",
    "print()\n",
    "\n",
    "#Crear un nuevo array de 1D con la segunda columna\n",
    "\n",
    "i = 1 #columna que quiero obtener\n",
    "arr_1D = array_numeros[i,:]\n",
    "print(f'Array de 1D: {arr_1D}')\n",
    "\n",
    "print()\n",
    "#Imprimir el valor de la segunda columna solo de la línea 222\n",
    "indices_1D = 222\n",
    "a = arr_1D.take(indices_1D) #trabajamos sobre el arr_1D que ya contiene los valores de la segunda columna\n",
    "print(f'Elemento 222: {a}')"
   ]
  },
  {
   "cell_type": "markdown",
   "metadata": {},
   "source": [
    "En base al array anterior:\n",
    "* Hallar el valor máximo, minimo y promedio de la columna 2 (0.5p)\n",
    "* Realizar un \"reshape\" cambiando la disposición de los elementos de tal forma a que tengas 8 columnas en vez de 2 (0.5p)"
   ]
  },
  {
   "cell_type": "code",
   "execution_count": null,
   "metadata": {},
   "outputs": [],
   "source": [
    "import numpy as np \n",
    "\n",
    "#trabajamos sobre el arr_1D que ya contiene los valores de la segunda columna\n",
    "\n",
    "#max\n",
    "print(f'Valor máximo: {arr_1D.max()}')\n",
    "\n",
    "#min\n",
    "print(f'Valor mínimo: {arr_1D.min()}')\n",
    "\n",
    "#promedio\n",
    "x = arr_1D.size #cantidad de elementos\n",
    "y = arr_1D.sum() #sumamos el array\n",
    "promedio = y/x #suma/cantidad\n",
    "print(f'Promedio de la columna 2: {promedio}')\n",
    "print()\n",
    "\n",
    "#reshape\n",
    "a = array_numeros\n",
    "type(a)\n",
    "np.reshape(a, (-1, 8)) #-1:adecua la cantidad de fila, 8 = columnas"
   ]
  }
 ],
 "metadata": {
  "kernelspec": {
   "display_name": "Python 3",
   "language": "python",
   "name": "python3"
  },
  "language_info": {
   "codemirror_mode": {
    "name": "ipython",
    "version": 3
   },
   "file_extension": ".py",
   "mimetype": "text/x-python",
   "name": "python",
   "nbconvert_exporter": "python",
   "pygments_lexer": "ipython3",
   "version": "3.8.3"
  }
 },
 "nbformat": 4,
 "nbformat_minor": 2
}
